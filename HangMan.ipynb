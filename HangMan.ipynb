{
  "nbformat": 4,
  "nbformat_minor": 0,
  "metadata": {
    "colab": {
      "name": "HangMan.ipynb",
      "provenance": [],
      "authorship_tag": "ABX9TyOAnOIP6xCDzMbSiyGJdxnc",
      "include_colab_link": true
    },
    "kernelspec": {
      "name": "python3",
      "display_name": "Python 3"
    }
  },
  "cells": [
    {
      "cell_type": "markdown",
      "metadata": {
        "id": "view-in-github",
        "colab_type": "text"
      },
      "source": [
        "<a href=\"https://colab.research.google.com/github/hritikvalluvar/HangMan-in-Python/blob/master/HangMan.ipynb\" target=\"_parent\"><img src=\"https://colab.research.google.com/assets/colab-badge.svg\" alt=\"Open In Colab\"/></a>"
      ]
    },
    {
      "cell_type": "markdown",
      "metadata": {
        "id": "bS-wUltFutEl",
        "colab_type": "text"
      },
      "source": [
        "Run this cell to install required library"
      ]
    },
    {
      "cell_type": "code",
      "metadata": {
        "id": "xL7G2qPdpQAK",
        "colab_type": "code",
        "colab": {}
      },
      "source": [
        "pip install random_word"
      ],
      "execution_count": 0,
      "outputs": []
    },
    {
      "cell_type": "markdown",
      "metadata": {
        "id": "vLwoIFLW00EU",
        "colab_type": "text"
      },
      "source": [
        "Run this cell to play the game\n",
        "\n"
      ]
    },
    {
      "cell_type": "code",
      "metadata": {
        "id": "GajI0OHApX7d",
        "colab_type": "code",
        "colab": {}
      },
      "source": [
        "from random_word import RandomWords                        #Importing RandomWords funtions from random_word library\n",
        " \n",
        "def get_random_word():                                     #Function to obtain random words\n",
        " r = RandomWords()\n",
        " word = r.get_random_word()                                  \n",
        " return word.upper()                                       #Returning random words in upper case\n",
        "\n",
        "def game(word):                                            #Game Funtion\n",
        "  trials = 6                                               #User has atmost 6 attempts to guess the word\n",
        "  blanks = \"_\" * len(word)                                 #Initializing blanks as its length is equal to length of word\n",
        "  guessed = False                                          #Initializing guessed as default\n",
        "  guessed_letters = []                                     #Intitializing an empty list to store guessed letters in order to reduce repetitions \n",
        " \n",
        "  print(\"\\nLet's begin\")\n",
        "  print(visual(trials))\n",
        "  print(\" \".join(blanks))                                  #To print \"_\" with spaces\n",
        "\n",
        "  while guessed == False and trials > 0:                   #Loop will run until user hasn't guessed and trials left\n",
        "    guess = input(\"\\nEnter a letter : \").upper()\n",
        "\n",
        "    if len(guess) == 1 and guess.isalpha():                #input should be a single charecter and an alphabet\n",
        "\n",
        "      if guess in guessed_letters:\n",
        "        print(\"\\nYou've guessed this letter, try again!\")\n",
        "\n",
        "      elif guess in word:\n",
        "        for i in range(0,len(word)):\n",
        "          if(word[i] == guess):\n",
        "            blanks = blanks[:i] + guess + blanks[i+1:]     #Used splicing to replace letters as strings are immutable\n",
        "        print(\" \".join(blanks))\n",
        "        guessed_letters.append(guess)\n",
        "\n",
        "      else:\n",
        "        trials -= 1\n",
        "        guessed_letters.append(guess)\n",
        "        print(visual(trials))  \n",
        "\n",
        "    else:\n",
        "      print(\"\\nInvalid input!\")    \n",
        "\n",
        "    if blanks.find(\"_\") == -1 :                            #User wins if she fills all the blanks \n",
        "      guessed = True\n",
        "      print(\"\\nYou've Won!\")                               \n",
        "\n",
        "\n",
        "  if guessed == False:                                     #User looses if she makes more than 6 mistakes\n",
        "    print(\"\\nYou all suck!\\nAll Hail Jake\")    \n",
        "    print(\"\\nThe word was \",word)\n",
        "\n",
        "\n",
        "def visual(trials):\n",
        "    stages = [  # final state: head, torso, both arms, and both legs\n",
        "                \"\"\"\n",
        "                   --------\n",
        "                   |      |\n",
        "                   |      O\n",
        "                   |     \\\\|/\n",
        "                   |      |\n",
        "                   |     / \\\\\n",
        "                   -\n",
        "                \"\"\",\n",
        "                # head, torso, both arms, and one leg\n",
        "                \"\"\"\n",
        "                   --------\n",
        "                   |      |\n",
        "                   |      O\n",
        "                   |     \\\\|/\n",
        "                   |      |\n",
        "                   |     / \n",
        "                   -\n",
        "                \"\"\",\n",
        "                # head, torso, and both arms\n",
        "                \"\"\"\n",
        "                   --------\n",
        "                   |      |\n",
        "                   |      O\n",
        "                   |     \\\\|/\n",
        "                   |      |\n",
        "                   |      \n",
        "                   -\n",
        "                \"\"\",\n",
        "                # head, torso, and one arm\n",
        "                \"\"\"\n",
        "                   --------\n",
        "                   |      |\n",
        "                   |      O\n",
        "                   |     \\\\|\n",
        "                   |      |\n",
        "                   |     \n",
        "                   -\n",
        "                \"\"\",\n",
        "                # head and torso\n",
        "                \"\"\"\n",
        "                   --------\n",
        "                   |      |\n",
        "                   |      O\n",
        "                   |      |\n",
        "                   |      |\n",
        "                   |     \n",
        "                   -\n",
        "                \"\"\",\n",
        "                # head\n",
        "                \"\"\"\n",
        "                   --------\n",
        "                   |      |\n",
        "                   |      O\n",
        "                   |    \n",
        "                   |      \n",
        "                   |     \n",
        "                   -\n",
        "                \"\"\",\n",
        "                # initial empty state\n",
        "                \"\"\"\n",
        "                   --------\n",
        "                   |      |\n",
        "                   |      \n",
        "                   |    \n",
        "                   |      \n",
        "                   |     \n",
        "                   -\n",
        "                \"\"\"\n",
        "    ]\n",
        "    return stages[trials]\n",
        "\n",
        "\n",
        "consent = input(\"Do you want to play (Yes/No) : \" ).upper()\n",
        "while consent == \"YES\":\n",
        "  word = get_random_word()\n",
        "  game(word)\n",
        "  consent = input(\"\\nDo you want to play again(Yes/No) : \").upper()\n",
        "\n",
        "\n",
        "#Author Hritik Valluvar\n",
        " \n"
      ],
      "execution_count": 0,
      "outputs": []
    }
  ]
}